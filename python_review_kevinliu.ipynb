{
 "cells": [
  {
   "cell_type": "markdown",
   "id": "e017e377",
   "metadata": {},
   "source": [
    "### Begin by loading in Ccrcc data set from CPTAC"
   ]
  },
  {
   "cell_type": "code",
   "execution_count": 1,
   "id": "5472fc17",
   "metadata": {},
   "outputs": [],
   "source": [
    "import os\n",
    "os.chdir('/Users/kevinliu/desktop/qbio_490/QBIO_490_kevinliu/analysis_data')\n"
   ]
  },
  {
   "cell_type": "code",
   "execution_count": 2,
   "id": "25df1219",
   "metadata": {
    "scrolled": true
   },
   "outputs": [
    {
     "name": "stderr",
     "output_type": "stream",
     "text": [
      "cptac warning: Your version of cptac (1.1.2) is out-of-date. Latest is 1.5.7. Please run 'pip install --upgrade cptac' to update it. (/Users/kevinliu/opt/anaconda3/envs/qbio_490_kevinliu/lib/python3.9/threading.py, line 917)\n"
     ]
    },
    {
     "data": {
      "text/html": [
       "<div>\n",
       "<style scoped>\n",
       "    .dataframe tbody tr th:only-of-type {\n",
       "        vertical-align: middle;\n",
       "    }\n",
       "\n",
       "    .dataframe tbody tr th {\n",
       "        vertical-align: top;\n",
       "    }\n",
       "\n",
       "    .dataframe thead th {\n",
       "        text-align: right;\n",
       "    }\n",
       "</style>\n",
       "<table border=\"1\" class=\"dataframe\">\n",
       "  <thead>\n",
       "    <tr style=\"text-align: right;\">\n",
       "      <th></th>\n",
       "      <th>Description</th>\n",
       "      <th>Data reuse status</th>\n",
       "      <th>Publication link</th>\n",
       "    </tr>\n",
       "    <tr>\n",
       "      <th>Dataset name</th>\n",
       "      <th></th>\n",
       "      <th></th>\n",
       "      <th></th>\n",
       "    </tr>\n",
       "  </thead>\n",
       "  <tbody>\n",
       "    <tr>\n",
       "      <th>Brca</th>\n",
       "      <td>breast cancer</td>\n",
       "      <td>no restrictions</td>\n",
       "      <td>https://pubmed.ncbi.nlm.nih.gov/33212010/</td>\n",
       "    </tr>\n",
       "    <tr>\n",
       "      <th>Ccrcc</th>\n",
       "      <td>clear cell renal cell carcinoma (kidney)</td>\n",
       "      <td>no restrictions</td>\n",
       "      <td>https://pubmed.ncbi.nlm.nih.gov/31675502/</td>\n",
       "    </tr>\n",
       "    <tr>\n",
       "      <th>Colon</th>\n",
       "      <td>colorectal cancer</td>\n",
       "      <td>no restrictions</td>\n",
       "      <td>https://pubmed.ncbi.nlm.nih.gov/31031003/</td>\n",
       "    </tr>\n",
       "    <tr>\n",
       "      <th>Endometrial</th>\n",
       "      <td>endometrial carcinoma (uterine)</td>\n",
       "      <td>no restrictions</td>\n",
       "      <td>https://pubmed.ncbi.nlm.nih.gov/32059776/</td>\n",
       "    </tr>\n",
       "    <tr>\n",
       "      <th>Gbm</th>\n",
       "      <td>glioblastoma</td>\n",
       "      <td>no restrictions</td>\n",
       "      <td>https://pubmed.ncbi.nlm.nih.gov/33577785/</td>\n",
       "    </tr>\n",
       "    <tr>\n",
       "      <th>Hnscc</th>\n",
       "      <td>head and neck squamous cell carcinoma</td>\n",
       "      <td>no restrictions</td>\n",
       "      <td>https://pubmed.ncbi.nlm.nih.gov/33417831/</td>\n",
       "    </tr>\n",
       "    <tr>\n",
       "      <th>Lscc</th>\n",
       "      <td>lung squamous cell carcinoma</td>\n",
       "      <td>no restrictions</td>\n",
       "      <td>https://pubmed.ncbi.nlm.nih.gov/34358469/</td>\n",
       "    </tr>\n",
       "    <tr>\n",
       "      <th>Luad</th>\n",
       "      <td>lung adenocarcinoma</td>\n",
       "      <td>no restrictions</td>\n",
       "      <td>https://pubmed.ncbi.nlm.nih.gov/32649874/</td>\n",
       "    </tr>\n",
       "    <tr>\n",
       "      <th>Ovarian</th>\n",
       "      <td>high grade serous ovarian cancer</td>\n",
       "      <td>no restrictions</td>\n",
       "      <td>https://pubmed.ncbi.nlm.nih.gov/27372738/</td>\n",
       "    </tr>\n",
       "    <tr>\n",
       "      <th>Pdac</th>\n",
       "      <td>pancreatic ductal adenocarcinoma</td>\n",
       "      <td>no restrictions</td>\n",
       "      <td>https://pubmed.ncbi.nlm.nih.gov/34534465/</td>\n",
       "    </tr>\n",
       "    <tr>\n",
       "      <th>UcecConf</th>\n",
       "      <td>endometrial confirmatory carcinoma</td>\n",
       "      <td>password access only</td>\n",
       "      <td>unpublished</td>\n",
       "    </tr>\n",
       "    <tr>\n",
       "      <th>GbmConf</th>\n",
       "      <td>glioblastoma confirmatory</td>\n",
       "      <td>password access only</td>\n",
       "      <td>unpublished</td>\n",
       "    </tr>\n",
       "  </tbody>\n",
       "</table>\n",
       "</div>"
      ],
      "text/plain": [
       "                                           Description     Data reuse status  \\\n",
       "Dataset name                                                                   \n",
       "Brca                                     breast cancer       no restrictions   \n",
       "Ccrcc         clear cell renal cell carcinoma (kidney)       no restrictions   \n",
       "Colon                                colorectal cancer       no restrictions   \n",
       "Endometrial            endometrial carcinoma (uterine)       no restrictions   \n",
       "Gbm                                       glioblastoma       no restrictions   \n",
       "Hnscc            head and neck squamous cell carcinoma       no restrictions   \n",
       "Lscc                      lung squamous cell carcinoma       no restrictions   \n",
       "Luad                               lung adenocarcinoma       no restrictions   \n",
       "Ovarian               high grade serous ovarian cancer       no restrictions   \n",
       "Pdac                  pancreatic ductal adenocarcinoma       no restrictions   \n",
       "UcecConf            endometrial confirmatory carcinoma  password access only   \n",
       "GbmConf                      glioblastoma confirmatory  password access only   \n",
       "\n",
       "                                       Publication link  \n",
       "Dataset name                                             \n",
       "Brca          https://pubmed.ncbi.nlm.nih.gov/33212010/  \n",
       "Ccrcc         https://pubmed.ncbi.nlm.nih.gov/31675502/  \n",
       "Colon         https://pubmed.ncbi.nlm.nih.gov/31031003/  \n",
       "Endometrial   https://pubmed.ncbi.nlm.nih.gov/32059776/  \n",
       "Gbm           https://pubmed.ncbi.nlm.nih.gov/33577785/  \n",
       "Hnscc         https://pubmed.ncbi.nlm.nih.gov/33417831/  \n",
       "Lscc          https://pubmed.ncbi.nlm.nih.gov/34358469/  \n",
       "Luad          https://pubmed.ncbi.nlm.nih.gov/32649874/  \n",
       "Ovarian       https://pubmed.ncbi.nlm.nih.gov/27372738/  \n",
       "Pdac          https://pubmed.ncbi.nlm.nih.gov/34534465/  \n",
       "UcecConf                                    unpublished  \n",
       "GbmConf                                     unpublished  "
      ]
     },
     "execution_count": 2,
     "metadata": {},
     "output_type": "execute_result"
    }
   ],
   "source": [
    "import cptac\n",
    "cptac.list_datasets()\n"
   ]
  },
  {
   "cell_type": "code",
   "execution_count": 3,
   "id": "9089df2c",
   "metadata": {},
   "outputs": [
    {
     "name": "stdout",
     "output_type": "stream",
     "text": [
      "Below are the dataframes contained in this dataset and their dimensions:\n",
      "\n",
      "clinical\n",
      "\t194 rows\n",
      "\t171 columns\n",
      "CNV\n",
      "\t110 rows\n",
      "\t19285 columns\n",
      "followup\n",
      "\t352 rows\n",
      "\t27 columns\n",
      "medical_history\n",
      "\t370 rows\n",
      "\t4 columns\n",
      "methylation\n",
      "\t107 rows\n",
      "\t15885 columns\n",
      "phosphoproteomics\n",
      "\t194 rows\n",
      "\t81550 columns\n",
      "phosphoproteomics_gene\n",
      "\t194 rows\n",
      "\t6127 columns\n",
      "proteomics\n",
      "\t194 rows\n",
      "\t11710 columns\n",
      "somatic_mutation\n",
      "\t8350 rows\n",
      "\t3 columns\n",
      "transcriptomics\n",
      "\t185 rows\n",
      "\t19275 columns\n"
     ]
    }
   ],
   "source": [
    "cptac.download(dataset = \"Ccrcc\")\n",
    "ccrcc = cptac.Ccrcc()\n",
    "ccrcc.list_data()"
   ]
  },
  {
   "cell_type": "code",
   "execution_count": 4,
   "id": "1d6cd417",
   "metadata": {},
   "outputs": [],
   "source": [
    "#Loading in appropriate datasets within Ccrcc\n",
    "clinical_data_og = ccrcc.get_clinical()\n",
    "protein_data = ccrcc.get_proteomics()\n",
    "protein_data.columns = protein_data.columns.get_level_values(0) \n",
    "rna_data = ccrcc.get_transcriptomics()"
   ]
  },
  {
   "cell_type": "markdown",
   "id": "e110a36a",
   "metadata": {},
   "source": [
    "### Preprocessing data for analysis by machine learning algorithms later"
   ]
  },
  {
   "cell_type": "code",
   "execution_count": 6,
   "id": "e954b3f7",
   "metadata": {
    "scrolled": true
   },
   "outputs": [],
   "source": [
    "import pandas as pd\n",
    "import numpy as np\n",
    "\n",
    "#masking to only have Stage I, II, or III tumors\n",
    "tumor_mask_stage = np.where(clinical_data_og.tumor_stage_pathological != \"Stage IV\", True, False)\n",
    "clinical_data_inter = clinical_data_og[tumor_mask_stage]\n",
    "clinical_data = clinical_data_inter[clinical_data_inter.tumor_stage_pathological.notna()]\n",
    "#clinical_data.tumor_stage_pathological.unique()\n",
    "#clinical_data"
   ]
  },
  {
   "cell_type": "code",
   "execution_count": 7,
   "id": "4603da30",
   "metadata": {},
   "outputs": [
    {
     "name": "stderr",
     "output_type": "stream",
     "text": [
      "/Users/kevinliu/opt/anaconda3/envs/qbio_490_kevinliu/lib/python3.9/site-packages/pandas/core/internals/blocks.py:366: RuntimeWarning: divide by zero encountered in log2\n",
      "  result = func(self.values, **kwargs)\n"
     ]
    }
   ],
   "source": [
    "#Masking RNA and protein data to reflect data availible in clinical data\n",
    "rna_mask = rna_data.index.isin(clinical_data.index)\n",
    "rna_data = rna_data[rna_mask]\n",
    "rna_data = np.log2(rna_data) \n",
    "rna_data = rna_data.dropna(axis=1)\n",
    "rna_data = rna_data.T.loc[~rna_data.T.index.duplicated(), :].T\n",
    "\n",
    "protein_mask = protein_data.index.isin(clinical_data.index)\n",
    "protein_data = protein_data[protein_mask]\n",
    "protein_data = protein_data.dropna(axis=1)\n",
    "protein_data = protein_data.T.loc[~protein_data.T.index.duplicated(), :].T\n"
   ]
  },
  {
   "cell_type": "code",
   "execution_count": 8,
   "id": "9599914b",
   "metadata": {
    "scrolled": true
   },
   "outputs": [
    {
     "name": "stdout",
     "output_type": "stream",
     "text": [
      "Name\n",
      "MMP8            inf\n",
      "SLC6A11         inf\n",
      "SLC5A11         inf\n",
      "IGFL2           inf\n",
      "SLC5A5          inf\n",
      "             ...   \n",
      "GPR153     0.003480\n",
      "ACSM1      0.002700\n",
      "PXDNL      0.001824\n",
      "GCSAM      0.001776\n",
      "RGS7BP     0.000914\n",
      "Length: 19275, dtype: float64\n",
      "Name\n",
      "MT1H      2.844733\n",
      "MT1G      2.590020\n",
      "MT1F      2.432565\n",
      "MT1E      2.283102\n",
      "MT1B      2.145197\n",
      "            ...   \n",
      "LAP3      0.000167\n",
      "AKAP1     0.000129\n",
      "SCAMP4    0.000120\n",
      "QSOX1     0.000115\n",
      "USP33     0.000018\n",
      "Length: 6606, dtype: float64\n"
     ]
    }
   ],
   "source": [
    "rna_mean = rna_data.mean()\n",
    "protein_mean = protein_data.mean()\n",
    "\n",
    "print(np.absolute(rna_mean).sort_values(ascending=False))\n",
    "print(np.absolute(protein_mean).sort_values(ascending=False))\n",
    "\n",
    "#Top 5 differentially expressed RNA genes : NUP98, NMT1, RAB8A, TNPO3, ZNF664\n",
    "#Top 5 differentially expressed Proteins: MT1H, MT1G, MT1F, MT1E, MT1B\n"
   ]
  },
  {
   "cell_type": "code",
   "execution_count": 9,
   "id": "e855e242",
   "metadata": {},
   "outputs": [],
   "source": [
    "#Combining genes and proteins of interest into one dataframe\n",
    "feature_df = pd.DataFrame()\n",
    "\n",
    "feature_df[\"NUP98\"] = rna_data.loc[:, \"NUP98\"]\n",
    "feature_df[\"NMT1\"] = rna_data.loc[:, \"NMT1\"]     \n",
    "feature_df = pd.merge(feature_df, rna_data.loc[:, \"RAB8A\"], left_index=True, right_index=True)\n",
    "feature_df = pd.merge(feature_df, rna_data.loc[:, \"TNPO3\"], left_index=True, right_index=True)\n",
    "feature_df = pd.merge(feature_df, rna_data.loc[:, \"ZNF664\"], left_index=True, right_index=True)\n",
    "feature_df = pd.merge(feature_df, protein_data.loc[:, \"MT1H\"], left_index=True, right_index=True)\n",
    "feature_df = pd.merge(feature_df, protein_data.loc[:, \"MT1G\"], left_index=True, right_index=True)\n",
    "feature_df = pd.merge(feature_df, protein_data.loc[:, \"MT1F\"], left_index=True, right_index=True)\n",
    "feature_df = pd.merge(feature_df, protein_data.loc[:, \"MT1E\"], left_index=True, right_index=True)\n",
    "feature_df = pd.merge(feature_df, protein_data.loc[:, \"MT1B\"], left_index=True, right_index=True)\n",
    "\n",
    "patient_stages = clinical_data.tumor_stage_pathological\n",
    "\n",
    "patient_stages = pd.DataFrame(patient_stages)"
   ]
  },
  {
   "cell_type": "code",
   "execution_count": 10,
   "id": "eaf76b30",
   "metadata": {},
   "outputs": [],
   "source": [
    "from sklearn.preprocessing import OrdinalEncoder\n",
    "\n",
    "encoder = OrdinalEncoder()\n",
    "unencoded_columns = patient_stages\n",
    "encoded_columns = encoder.fit_transform(unencoded_columns)\n",
    "patient_stages = encoded_columns\n"
   ]
  },
  {
   "cell_type": "code",
   "execution_count": 11,
   "id": "63005212",
   "metadata": {},
   "outputs": [
    {
     "name": "stderr",
     "output_type": "stream",
     "text": [
      "/Users/kevinliu/opt/anaconda3/envs/qbio_490_kevinliu/lib/python3.9/site-packages/tqdm/auto.py:21: TqdmWarning: IProgress not found. Please update jupyter and ipywidgets. See https://ipywidgets.readthedocs.io/en/stable/user_install.html\n",
      "  from .autonotebook import tqdm as notebook_tqdm\n"
     ]
    }
   ],
   "source": [
    "from sklearn.preprocessing import StandardScaler\n",
    "from umap import UMAP\n",
    "\n",
    "\n",
    "scaler = StandardScaler()\n",
    "\n",
    "embedding_unscaled = UMAP().fit_transform(feature_df)\n",
    "\n",
    "scaled_data = scaler.fit_transform(feature_df)\n",
    "embedding_scaled = UMAP().fit_transform(scaled_data)"
   ]
  },
  {
   "cell_type": "markdown",
   "id": "f2c8cb36",
   "metadata": {},
   "source": [
    "### Testing the different machine learning algorithms for best fit"
   ]
  },
  {
   "cell_type": "code",
   "execution_count": 12,
   "id": "1ea5e8e4",
   "metadata": {},
   "outputs": [],
   "source": [
    "from sklearn.neighbors import KNeighborsClassifier # default number of neighbors looked at is 5\n",
    "from sklearn.tree import DecisionTreeClassifier\n",
    "from sklearn.neural_network import MLPClassifier\n",
    "from sklearn.naive_bayes import GaussianNB"
   ]
  },
  {
   "cell_type": "code",
   "execution_count": 13,
   "id": "1f5241d9",
   "metadata": {},
   "outputs": [],
   "source": [
    "#single run\n",
    "\n",
    "from sklearn.preprocessing import StandardScaler\n",
    "from sklearn.model_selection import train_test_split\n",
    "\n",
    "patient_stages = np.array(patient_stages)\n",
    "\n",
    "classifier = KNeighborsClassifier() # your choice of which classifier to use\n",
    "\n",
    "X_train, X_test, y_train, y_test = train_test_split(scaled_data, patient_stages, train_size=0.7)\n",
    "\n",
    "classifier.fit(X_train, y_train.ravel())\n",
    "\n",
    "y_pred = classifier.predict(X_test)"
   ]
  },
  {
   "cell_type": "code",
   "execution_count": 14,
   "id": "8dcf1c68",
   "metadata": {
    "scrolled": false
   },
   "outputs": [
    {
     "name": "stderr",
     "output_type": "stream",
     "text": [
      "/Users/kevinliu/opt/anaconda3/envs/qbio_490_kevinliu/lib/python3.9/site-packages/sklearn/neural_network/_multilayer_perceptron.py:691: ConvergenceWarning: Stochastic Optimizer: Maximum iterations (200) reached and the optimization hasn't converged yet.\n",
      "  warnings.warn(\n",
      "/Users/kevinliu/opt/anaconda3/envs/qbio_490_kevinliu/lib/python3.9/site-packages/sklearn/neural_network/_multilayer_perceptron.py:691: ConvergenceWarning: Stochastic Optimizer: Maximum iterations (200) reached and the optimization hasn't converged yet.\n",
      "  warnings.warn(\n",
      "/Users/kevinliu/opt/anaconda3/envs/qbio_490_kevinliu/lib/python3.9/site-packages/sklearn/neural_network/_multilayer_perceptron.py:691: ConvergenceWarning: Stochastic Optimizer: Maximum iterations (200) reached and the optimization hasn't converged yet.\n",
      "  warnings.warn(\n",
      "/Users/kevinliu/opt/anaconda3/envs/qbio_490_kevinliu/lib/python3.9/site-packages/sklearn/neural_network/_multilayer_perceptron.py:691: ConvergenceWarning: Stochastic Optimizer: Maximum iterations (200) reached and the optimization hasn't converged yet.\n",
      "  warnings.warn(\n",
      "/Users/kevinliu/opt/anaconda3/envs/qbio_490_kevinliu/lib/python3.9/site-packages/sklearn/neural_network/_multilayer_perceptron.py:691: ConvergenceWarning: Stochastic Optimizer: Maximum iterations (200) reached and the optimization hasn't converged yet.\n",
      "  warnings.warn(\n",
      "/Users/kevinliu/opt/anaconda3/envs/qbio_490_kevinliu/lib/python3.9/site-packages/sklearn/neural_network/_multilayer_perceptron.py:691: ConvergenceWarning: Stochastic Optimizer: Maximum iterations (200) reached and the optimization hasn't converged yet.\n",
      "  warnings.warn(\n",
      "/Users/kevinliu/opt/anaconda3/envs/qbio_490_kevinliu/lib/python3.9/site-packages/sklearn/neural_network/_multilayer_perceptron.py:691: ConvergenceWarning: Stochastic Optimizer: Maximum iterations (200) reached and the optimization hasn't converged yet.\n",
      "  warnings.warn(\n",
      "/Users/kevinliu/opt/anaconda3/envs/qbio_490_kevinliu/lib/python3.9/site-packages/sklearn/neural_network/_multilayer_perceptron.py:691: ConvergenceWarning: Stochastic Optimizer: Maximum iterations (200) reached and the optimization hasn't converged yet.\n",
      "  warnings.warn(\n"
     ]
    },
    {
     "name": "stdout",
     "output_type": "stream",
     "text": [
      "\n",
      "After 10 simulations, the average error for each regressor is as follows:\n",
      "\tKNeighborsClassifier : 0.2566666666666667\n",
      "\tDecisionTreeClassifier : 0.15666666666666668\n",
      "\tMLPClassifier : 0.18\n",
      "\tGaussianNB : 0.24333333333333335\n"
     ]
    },
    {
     "name": "stderr",
     "output_type": "stream",
     "text": [
      "/Users/kevinliu/opt/anaconda3/envs/qbio_490_kevinliu/lib/python3.9/site-packages/sklearn/neural_network/_multilayer_perceptron.py:691: ConvergenceWarning: Stochastic Optimizer: Maximum iterations (200) reached and the optimization hasn't converged yet.\n",
      "  warnings.warn(\n",
      "/Users/kevinliu/opt/anaconda3/envs/qbio_490_kevinliu/lib/python3.9/site-packages/sklearn/neural_network/_multilayer_perceptron.py:691: ConvergenceWarning: Stochastic Optimizer: Maximum iterations (200) reached and the optimization hasn't converged yet.\n",
      "  warnings.warn(\n"
     ]
    }
   ],
   "source": [
    "#Loop of 10 runs for each classifier\n",
    "\n",
    "regressors_names = [\n",
    "    'KNeighborsClassifier', \n",
    "    'DecisionTreeClassifier', \n",
    "    'MLPClassifier', \n",
    "    'GaussianNB'\n",
    "]\n",
    "\n",
    "regressors = [\n",
    "    KNeighborsClassifier(),\n",
    "    DecisionTreeClassifier(),\n",
    "    MLPClassifier(),\n",
    "    GaussianNB()\n",
    "]\n",
    "\n",
    "regressors_perf = {\n",
    "    0: [],\n",
    "    1: [],\n",
    "    2: [],\n",
    "    3: []\n",
    "}\n",
    "\n",
    "for n in range(10):\n",
    "    X_train, X_test, y_train, y_test = train_test_split(scaled_data, patient_stages, train_size=0.7)\n",
    "    for i in range(len(regressors)):\n",
    "        model = regressors[i]\n",
    "        model.fit(X_train, y_train.ravel())\n",
    "        y_pred = model.predict(X_test)\n",
    "\n",
    "        difference = y_pred - y_test\n",
    "        regressors_perf[i].append(abs(np.mean(difference)))\n",
    "\n",
    "print('\\nAfter 10 simulations, the average error for each regressor is as follows:')\n",
    "for i in regressors_perf:\n",
    "    print(f'\\t{regressors_names[i]} : {np.mean(regressors_perf[i])}')\n",
    "\n"
   ]
  },
  {
   "cell_type": "markdown",
   "id": "13b20ef0",
   "metadata": {},
   "source": [
    "### After 10 simulations, the average error for each regressor is as follows:\n",
    "\t- KNeighborsClassifier : 0.3068333333333333\n",
    "\t- DecisionTreeClassifier : 0.2131333333333333\n",
    "\t- MLPClassifier : 0.2469666666666667\n",
    "\t- GaussianNB : 0.22826666666666667\n",
    "\n",
    "After running the multiple trials of each classifier, it seems like DecisionTreeClassifier is the best fit. Overall, when the training set was compared to the test set, it had the least average error. DecisionTreeClassifier had an average error around 0.213 with the next lowest classifier GaussianNB at 0.228."
   ]
  }
 ],
 "metadata": {
  "kernelspec": {
   "display_name": "Python 3 (ipykernel)",
   "language": "python",
   "name": "python3"
  },
  "language_info": {
   "codemirror_mode": {
    "name": "ipython",
    "version": 3
   },
   "file_extension": ".py",
   "mimetype": "text/x-python",
   "name": "python",
   "nbconvert_exporter": "python",
   "pygments_lexer": "ipython3",
   "version": "3.9.18"
  }
 },
 "nbformat": 4,
 "nbformat_minor": 5
}
